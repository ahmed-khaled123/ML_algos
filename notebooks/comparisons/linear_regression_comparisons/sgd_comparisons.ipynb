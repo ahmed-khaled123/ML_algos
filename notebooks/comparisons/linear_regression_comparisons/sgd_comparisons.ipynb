{
 "cells": [
  {
   "cell_type": "markdown",
   "metadata": {},
   "source": [
    " # Comparison of SGD for Linear Regression: From Scratch vs Scikit-learn"
   ]
  },
  {
   "cell_type": "markdown",
   "metadata": {},
   "source": [
    " ## Introduction\n",
    "\n",
    " This notebook compares SGD implementations for Linear Regression from scratch and scikit-learn."
   ]
  },
  {
   "cell_type": "markdown",
   "metadata": {},
   "source": [
    " ## Data Loading\n",
    "\n",
    " Load  the student data."
   ]
  },
  {
   "cell_type": "code",
   "execution_count": null,
   "metadata": {},
   "outputs": [],
   "source": [
    "import os\n",
    "import sys\n",
    "\n",
    "import numpy as np\n",
    "\n",
    "# Set project root directory and add it to the system path\n",
    "project_root = os.path.abspath(os.path.join(os.getcwd(), \"..\", \"..\", \"..\"))\n",
    "sys.path.append(project_root)\n",
    "\n",
    "\n",
    "from src.scratch.utils.viz_utils import plot_scatter_for_regression\n",
    "\n",
    "\n",
    "X_train = np.load(\"../../../data/processed/student_X_train.npy\")\n",
    "X_test = np.load(\"../../../data/processed/student_X_test.npy\")\n",
    "y_train = np.load(\"../../../data/processed/student_y_train.npy\")\n",
    "y_test = np.load(\"../../../data/processed/student_y_test.npy\")\n",
    "\n",
    "print(\"Training features shape:\", X_train.shape)\n",
    "print(\"Test features shape:\", X_test.shape)\n",
    "print(\"Training target shape:\", y_train.shape)\n",
    "print(\"Test target shape:\", y_test.shape)"
   ]
  },
  {
   "cell_type": "markdown",
   "metadata": {},
   "source": [
    " ## Exploratory Data Analysis\n",
    "\n",
    " Visualize feature 1 vs. target."
   ]
  },
  {
   "cell_type": "code",
   "execution_count": null,
   "metadata": {},
   "outputs": [],
   "source": [
    "plot_scatter_for_regression(X_train, y_train, feature_index=0, title=\"Feature 1 vs Target\", filename=\"feature1_vs_target_sgd_comp.png\")\n"
   ]
  },
  {
   "cell_type": "markdown",
   "metadata": {},
   "source": [
    " ## Training Both Models\n",
    "\n",
    " Train both implementations with consistent hyperparameters."
   ]
  },
  {
   "cell_type": "code",
   "execution_count": null,
   "metadata": {},
   "outputs": [],
   "source": [
    "from src.scratch.models.linear_regression import LinearRegression\n",
    "from src.sklearn_impl.linear_regression_sk import LinearRegressionSK\n",
    "import time\n",
    "\n",
    "# From Scratch\n",
    "model_scratch = LinearRegression(method='stochastic_gd', learning_rate=0.01, n_iterations=1000)\n",
    "start_time = time.time()\n",
    "model_scratch.fit(X_train, y_train)\n",
    "time_scratch = time.time() - start_time\n",
    "\n",
    "# Scikit-learn\n",
    "model_sk = LinearRegressionSK(method='sgd', learning_rate=0.01, n_iterations=1000)\n",
    "start_time = time.time()\n",
    "model_sk.fit(X_train, y_train)\n",
    "time_sk = time.time() - start_time\n"
   ]
  },
  {
   "cell_type": "markdown",
   "metadata": {},
   "source": [
    " ## Performance Metrics\n",
    "\n",
    " Compare MSE and R²."
   ]
  },
  {
   "cell_type": "code",
   "execution_count": null,
   "metadata": {},
   "outputs": [],
   "source": [
    "from src.scratch.utils.metrics import mean_squared_error, r2_score\n",
    "\n",
    "y_pred_scratch = model_scratch.predict(X_test)\n",
    "mse_scratch = mean_squared_error(y_test, y_pred_scratch)\n",
    "r2_scratch = r2_score(y_test, y_pred_scratch)\n",
    "\n",
    "y_pred_sk = model_sk.predict(X_test)\n",
    "mse_sk = mean_squared_error(y_test, y_pred_sk)\n",
    "r2_sk = r2_score(y_test, y_pred_sk)\n",
    "\n",
    "print(f\"From Scratch - MSE: {mse_scratch:.4f}, R²: {r2_scratch:.4f}, Time: {time_scratch:.4f} seconds\")\n",
    "print(f\"Scikit-learn - MSE: {mse_sk:.4f}, R²: {r2_sk:.4f}, Time: {time_sk:.4f} seconds\")\n"
   ]
  },
  {
   "cell_type": "markdown",
   "metadata": {},
   "source": [
    " ## Visual Comparison\n",
    "\n",
    " Visualize differences."
   ]
  },
  {
   "cell_type": "code",
   "execution_count": null,
   "metadata": {},
   "outputs": [],
   "source": [
    "from src.scratch.utils.viz_utils import plot_actual_vs_predicted, plot_learning_curve\n",
    "\n",
    "plot_learning_curve(model_scratch.get_loss_history(), title=\"Learning Curve (SGD Scratch)\", filename=\"learning_curve_sgd_scratch_comp.png\")\n",
    "plot_learning_curve(model_sk.get_loss_history(), title=\"Learning Curve (SGD SK)\", filename=\"learning_curve_sgd_sk_comp.png\")\n",
    "plot_actual_vs_predicted(y_test, y_pred_scratch, title=\"Actual vs Predicted (SGD Scratch)\", filename=\"actual_vs_predicted_sgd_scratch_comp.png\")\n",
    "plot_actual_vs_predicted(y_test, y_pred_sk, title=\"Actual vs Predicted (SGD SK)\", filename=\"actual_vs_predicted_sgd_sk_comp.png\")\n"
   ]
  },
  {
   "cell_type": "markdown",
   "metadata": {},
   "source": [
    " ## Insights\n",
    "\n",
    " The scikit-learn implementation often converges faster and may achieve slightly better metrics due to optimized internals, while the \"from scratch\" version provides transparency into the algorithm."
   ]
  }
 ],
 "metadata": {
  "kernelspec": {
   "display_name": "Python 3",
   "language": "python",
   "name": "python3"
  },
  "language_info": {
   "codemirror_mode": {
    "name": "ipython",
    "version": 3
   },
   "file_extension": ".py",
   "mimetype": "text/x-python",
   "name": "python",
   "nbconvert_exporter": "python",
   "pygments_lexer": "ipython3",
   "version": "3.13.3"
  }
 },
 "nbformat": 4,
 "nbformat_minor": 2
}
