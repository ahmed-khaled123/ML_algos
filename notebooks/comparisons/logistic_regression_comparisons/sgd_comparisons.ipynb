{
 "cells": [
  {
   "cell_type": "markdown",
   "metadata": {},
   "source": [
    " # Comparison of SGD for Logistic Regression: From Scratch vs Scikit-learn"
   ]
  },
  {
   "cell_type": "markdown",
   "metadata": {},
   "source": [
    " ## Introduction\n",
    "\n",
    " Compare SGD implementations for Logistic Regression."
   ]
  },
  {
   "cell_type": "markdown",
   "metadata": {},
   "source": [
    " ## Data Loading\n",
    "\n",
    " Load  the breast cancer data."
   ]
  },
  {
   "cell_type": "code",
   "execution_count": null,
   "metadata": {},
   "outputs": [],
   "source": [
    "import os\n",
    "import sys\n",
    "\n",
    "import numpy as np\n",
    "\n",
    "# Set project root directory and add it to the system path\n",
    "project_root = os.path.abspath(os.path.join(os.getcwd(), \"..\", \"..\", \"..\"))\n",
    "sys.path.append(project_root)\n",
    "\n",
    "\n",
    "from src.scratch.utils.viz_utils import plot_scatter_for_classification\n",
    "\n",
    "X_train = np.load(\"../../../data/processed/breast_cancer_X_train.npy\")\n",
    "X_test = np.load(\"../../../data/processed/breast_cancer_X_test.npy\")\n",
    "y_train = np.load(\"../../../data/processed/breast_cancer_y_train.npy\")\n",
    "y_test = np.load(\"../../../data/processed/breast_cancer_y_test.npy\")\n",
    "\n",
    "print(\"Training features shape:\", X_train.shape)\n",
    "print(\"Test features shape:\", X_test.shape)\n",
    "print(\"Training target shape:\", y_train.shape)\n",
    "print(\"Test target shape:\", y_test.shape)"
   ]
  },
  {
   "cell_type": "markdown",
   "metadata": {},
   "source": [
    " ## Exploratory Data Analysis\n",
    "\n",
    " Visualize two features."
   ]
  },
  {
   "cell_type": "code",
   "execution_count": null,
   "metadata": {},
   "outputs": [],
   "source": [
    "if X_train.shape[1] >= 2:\n",
    "    plot_scatter_for_classification(X_train, y_train, feature_indices=(0, 1), title=\"Feature 1 vs Feature 2\", filename=\"feature1_vs_feature2_sgd_comp.png\")\n"
   ]
  },
  {
   "cell_type": "markdown",
   "metadata": {},
   "source": [
    " ## Training Both Models\n",
    "\n",
    " Train both models."
   ]
  },
  {
   "cell_type": "code",
   "execution_count": null,
   "metadata": {},
   "outputs": [],
   "source": [
    "from src.scratch.models.logistic_regression import LogisticRegression\n",
    "from src.sklearn_impl.logistic_regression_sk import LogisticRegressionSK\n",
    "import time\n",
    "\n",
    "model_scratch = LogisticRegression(method='stochastic_gd', learning_rate=0.01, n_iterations=1000)\n",
    "start_time = time.time()\n",
    "model_scratch.fit(X_train, y_train)\n",
    "time_scratch = time.time() - start_time\n",
    "\n",
    "model_sk = LogisticRegressionSK(method='sgd', learning_rate=0.01, n_iterations=1000)\n",
    "start_time = time.time()\n",
    "model_sk.fit(X_train, y_train)\n",
    "time_sk = time.time() - start_time\n"
   ]
  },
  {
   "cell_type": "markdown",
   "metadata": {},
   "source": [
    " ## Performance Metrics\n",
    "\n",
    " Compare metrics."
   ]
  },
  {
   "cell_type": "code",
   "execution_count": null,
   "metadata": {},
   "outputs": [],
   "source": [
    "from src.scratch.utils.metrics import accuracy, precision_score, recall_score, f1_score, roc_auc_score\n",
    "from src.scratch.utils.math_utils import sigmoid\n",
    "\n",
    "y_pred_scratch = model_scratch.predict(X_test)\n",
    "y_scores_scratch = sigmoid(model_scratch.predict(X_test))\n",
    "\n",
    "y_pred_sk = model_sk.predict(X_test)\n",
    "y_scores_sk = model_sk.predict_proba(X_test)[:, 1]\n",
    "\n",
    "acc_scratch = accuracy(y_test, y_pred_scratch)\n",
    "f1_scratch = f1_score(y_test, y_pred_scratch)\n",
    "roc_auc_scratch = roc_auc_score(y_test, y_scores_scratch)\n",
    "\n",
    "acc_sk = accuracy(y_test, y_pred_sk)\n",
    "f1_sk = f1_score(y_test, y_pred_sk)\n",
    "roc_auc_sk = roc_auc_score(y_test, y_scores_sk)\n",
    "\n",
    "print(f\"From Scratch - Accuracy: {acc_scratch:.4f}, F1: {f1_scratch:.4f}, ROC AUC: {roc_auc_scratch:.4f}, Time: {time_scratch:.4f} seconds\")\n",
    "print(f\"Scikit-learn - Accuracy: {acc_sk:.4f}, F1: {f1_sk:.4f}, ROC AUC: {roc_auc_sk:.4f}, Time: {time_sk:.4f} seconds\")\n"
   ]
  },
  {
   "cell_type": "markdown",
   "metadata": {},
   "source": [
    " ## Visual Comparison\n",
    "\n",
    " Visualize differences."
   ]
  },
  {
   "cell_type": "code",
   "execution_count": null,
   "metadata": {},
   "outputs": [],
   "source": [
    "from src.scratch.utils.viz_utils import plot_learning_curve, plot_two_decision_boundaries, plot_confusion_matrix\n",
    "\n",
    "plot_learning_curve(model_scratch.get_loss_history(), title=\"Learning Curve (SGD Scratch)\", filename=\"learning_curve_sgd_scratch_comp_log.png\")\n",
    "plot_learning_curve(model_sk.get_loss_history(), title=\"Learning Curve (SGD SK)\", filename=\"learning_curve_sgd_sk_comp_log.png\")\n",
    "if X_test.shape[1] == 2:\n",
    "    plot_two_decision_boundaries(model_scratch, model_sk, X_test, y_test, labels=[\"Scratch\", \"SK\"], filename=\"decision_boundaries_sgd_comp.png\")\n",
    "plot_confusion_matrix(y_test, y_pred_scratch, title=\"Confusion Matrix (SGD Scratch)\", filename=\"confusion_matrix_sgd_scratch_comp.png\")\n",
    "plot_confusion_matrix(y_test, y_pred_sk, title=\"Confusion Matrix (SGD SK)\", filename=\"confusion_matrix_sgd_sk_comp.png\")\n"
   ]
  },
  {
   "cell_type": "markdown",
   "metadata": {},
   "source": [
    " ## Insights\n",
    "\n",
    " Scikit-learn's SGD typically offers better performance and efficiency due to optimized algorithms."
   ]
  }
 ],
 "metadata": {
  "kernelspec": {
   "display_name": "Python 3",
   "language": "python",
   "name": "python3"
  },
  "language_info": {
   "codemirror_mode": {
    "name": "ipython",
    "version": 3
   },
   "file_extension": ".py",
   "mimetype": "text/x-python",
   "name": "python",
   "nbconvert_exporter": "python",
   "pygments_lexer": "ipython3",
   "version": "3.13.3"
  }
 },
 "nbformat": 4,
 "nbformat_minor": 2
}
