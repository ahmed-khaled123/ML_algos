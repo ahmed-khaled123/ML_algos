{
 "cells": [
  {
   "cell_type": "markdown",
   "metadata": {},
   "source": [
    " # Logistic Regression with Stochastic Gradient Descent (From Scratch)"
   ]
  },
  {
   "cell_type": "markdown",
   "metadata": {},
   "source": [
    " ## Introduction\n",
    "\n",
    " This notebook implements Logistic Regression with SGD from scratch on the breast cancer dataset."
   ]
  },
  {
   "cell_type": "markdown",
   "metadata": {},
   "source": [
    " ## Data Loading\n",
    "\n",
    " Load the breast cancer data."
   ]
  },
  {
   "cell_type": "code",
   "execution_count": null,
   "metadata": {},
   "outputs": [],
   "source": [
    "import os\n",
    "import sys\n",
    "\n",
    "import numpy as np\n",
    "\n",
    "# Set project root directory and add it to the system path\n",
    "project_root = os.path.abspath(os.path.join(os.getcwd(), \"..\", \"..\", \"..\"))\n",
    "sys.path.append(project_root)\n",
    "\n",
    "\n",
    "from src.scratch.utils.viz_utils import plot_scatter_for_classification\n",
    "\n",
    "X_train = np.load(\"../../../data/processed/breast_cancer_X_train.npy\")\n",
    "X_test = np.load(\"../../../data/processed/breast_cancer_X_test.npy\")\n",
    "y_train = np.load(\"../../../data/processed/breast_cancer_y_train.npy\")\n",
    "y_test = np.load(\"../../../data/processed/breast_cancer_y_test.npy\")\n",
    "\n",
    "print(\"Training features shape:\", X_train.shape)\n",
    "print(\"Test features shape:\", X_test.shape)\n",
    "print(\"Training target shape:\", y_train.shape)\n",
    "print(\"Test target shape:\", y_test.shape)"
   ]
  },
  {
   "cell_type": "markdown",
   "metadata": {},
   "source": [
    " ## Exploratory Data Analysis\n",
    "\n",
    " Visualize two features colored by class (if possible)."
   ]
  },
  {
   "cell_type": "code",
   "execution_count": null,
   "metadata": {},
   "outputs": [],
   "source": [
    "if X_train.shape[1] >= 2:\n",
    "    plot_scatter_for_classification(\n",
    "        X_train,\n",
    "        y_train,\n",
    "        feature_indices=(0, 1),\n",
    "        title=\"Feature 1 vs Feature 2\",\n",
    "        filename=\"feature1_vs_feature2_sgd_scratch.png\",\n",
    "    )\n",
    "else:\n",
    "    print(\"Not enough features for scatter plot.\")"
   ]
  },
  {
   "cell_type": "code",
   "execution_count": null,
   "metadata": {},
   "outputs": [],
   "source": [
    "import matplotlib.pyplot as plt\n",
    "\n",
    "plt.figure(figsize=(6, 4))\n",
    "plt.scatter(X_train[:, 0], y_train, color=\"blue\", alpha=0.7)\n",
    "plt.xlabel(\"Feature\")\n",
    "plt.ylabel(\"Diagnosis\")\n",
    "plt.title(\"Sample Data Visualization (1D)\")\n",
    "plt.grid(True)\n",
    "plt.show()"
   ]
  },
  {
   "cell_type": "markdown",
   "metadata": {},
   "source": [
    " ## Model Initialization\n",
    "\n",
    " Initialize with SGD."
   ]
  },
  {
   "cell_type": "code",
   "execution_count": null,
   "metadata": {},
   "outputs": [],
   "source": [
    "from src.scratch.models.logistic_regression import LogisticRegression\n",
    "\n",
    "model = LogisticRegression(\n",
    "    method=\"stochastic_gd\",\n",
    "    learning_rate=0.01,\n",
    "    n_iterations=2,\n",
    "    verbose=True,\n",
    "    lr_decay=0.005,\n",
    "    early_stopping=True,\n",
    ")"
   ]
  },
  {
   "cell_type": "markdown",
   "metadata": {},
   "source": [
    " ## Training\n",
    "\n",
    " Train and time the model."
   ]
  },
  {
   "cell_type": "code",
   "execution_count": null,
   "metadata": {},
   "outputs": [],
   "source": [
    "import time\n",
    "\n",
    "start_time = time.time()\n",
    "model.fit(X_train, y_train)\n",
    "training_time = time.time() - start_time\n",
    "print(f\"Training Time: {training_time:.4f} seconds\")"
   ]
  },
  {
   "cell_type": "markdown",
   "metadata": {},
   "source": [
    " ## Evaluation\n",
    "\n",
    " Calculate classification metrics."
   ]
  },
  {
   "cell_type": "code",
   "execution_count": null,
   "metadata": {},
   "outputs": [],
   "source": [
    "from src.scratch.utils.metrics import (\n",
    "    accuracy,\n",
    "    precision_score,\n",
    "    recall_score,\n",
    "    f1_score,\n",
    "    compute_roc_auc_score,\n",
    ")\n",
    "from src.scratch.utils.math_utils import sigmoid\n",
    "\n",
    "y_pred = model.predict(X_test)\n",
    "# Approximate probabilities for ROC AUC\n",
    "y_scores = sigmoid(\n",
    "    model.predict(X_test)\n",
    ")  # Using predict as a proxy since no predict_proba\n",
    "\n",
    "acc = accuracy(y_test, y_pred)\n",
    "prec = precision_score(y_test, y_pred)\n",
    "rec = recall_score(y_test, y_pred)\n",
    "f1 = f1_score(y_test, y_pred)\n",
    "roc_auc = compute_roc_auc_score(y_test, y_scores)\n",
    "\n",
    "print(f\"Accuracy: {acc:.4f}\")\n",
    "print(f\"Precision: {prec:.4f}\")\n",
    "print(f\"Recall: {rec:.4f}\")\n",
    "print(f\"F1 Score: {f1:.4f}\")\n",
    "print(f\"ROC AUC: {roc_auc:.4f}\")"
   ]
  },
  {
   "cell_type": "markdown",
   "metadata": {},
   "source": [
    " ## Visualizations\n",
    "\n",
    " Visualize results."
   ]
  },
  {
   "cell_type": "code",
   "execution_count": null,
   "metadata": {},
   "outputs": [],
   "source": [
    "from src.scratch.utils.viz_utils import (\n",
    "    plot_confusion_matrix,\n",
    "    plot_decision_boundary,\n",
    "    plot_learning_curve,\n",
    "    plot_precision_recall_curve,\n",
    "    plot_roc_curve,\n",
    ")\n",
    "\n",
    "plot_learning_curve(\n",
    "    model.get_loss_history(),\n",
    "    title=\"Learning Curve (SGD Scratch)\",\n",
    "    filename=\"learning_curve_sgd_scratch_log.png\",\n",
    ")\n",
    "\n",
    "if X_test.shape[1] == 2:\n",
    "\n",
    "    plot_decision_boundary(\n",
    "        model,\n",
    "        X_test,\n",
    "        y_test,\n",
    "        title=\"Decision Boundary (SGD Scratch)\",\n",
    "        filename=\"decision_boundary_sgd_scratch.png\",\n",
    "    )\n",
    "\n",
    "plot_confusion_matrix(\n",
    "    y_test,\n",
    "    y_pred,\n",
    "    title=\"Confusion Matrix (SGD Scratch)\",\n",
    "    filename=\"confusion_matrix_sgd_scratch.png\",\n",
    ")\n",
    "plot_roc_curve(\n",
    "    y_test,\n",
    "    y_scores,\n",
    "    title=\"ROC Curve (SGD Scratch)\",\n",
    "    filename=\"roc_curve_sgd_scratch.png\",\n",
    ")\n",
    "plot_precision_recall_curve(y_test, y_scores)"
   ]
  },
  {
   "cell_type": "markdown",
   "metadata": {},
   "source": [
    " ## Conclusion\n",
    "\n",
    " The SGD model achieved accuracy {acc:.4f}, F1 {f1:.4f}, and ROC AUC {roc_auc:.4f}. Visualizations show classification performance."
   ]
  }
 ],
 "metadata": {
  "kernelspec": {
   "display_name": "Python 3",
   "language": "python",
   "name": "python3"
  },
  "language_info": {
   "codemirror_mode": {
    "name": "ipython",
    "version": 3
   },
   "file_extension": ".py",
   "mimetype": "text/x-python",
   "name": "python",
   "nbconvert_exporter": "python",
   "pygments_lexer": "ipython3",
   "version": "3.13.3"
  }
 },
 "nbformat": 4,
 "nbformat_minor": 2
}
