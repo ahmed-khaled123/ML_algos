{
 "cells": [
  {
   "cell_type": "markdown",
   "metadata": {},
   "source": [
    " # Logistic Regression with Batch Gradient Descent (From Scratch)"
   ]
  },
  {
   "cell_type": "markdown",
   "metadata": {},
   "source": [
    " ## Introduction\n",
    "\n",
    " This notebook implements Logistic Regression with Batch GD from scratch."
   ]
  },
  {
   "cell_type": "markdown",
   "metadata": {},
   "source": [
    " ## Data Loading \n",
    "\n",
    " Load the data."
   ]
  },
  {
   "cell_type": "code",
   "execution_count": null,
   "metadata": {},
   "outputs": [],
   "source": [
    "import numpy as np\n",
    "import os\n",
    "import sys\n",
    "# Set project root directory and add it to the system path\n",
    "project_root = os.path.abspath(os.path.join(os.getcwd(), \"..\", \"..\", \"..\"))\n",
    "sys.path.append(project_root)\n",
    "\n",
    "\n",
    "from src.scratch.utils.viz_utils import plot_scatter_for_classification\n",
    "\n",
    "X_train = np.load('../../../data/processed/breast_cancer_X_train.npy')\n",
    "X_test  = np.load('../../../data/processed/breast_cancer_X_test.npy')\n",
    "y_train = np.load('../../../data/processed/breast_cancer_y_train.npy')\n",
    "y_test  = np.load('../../../data/processed/breast_cancer_y_test.npy')\n",
    "\n",
    "print(\"Training features shape:\", X_train.shape)\n",
    "print(\"Test features shape:\", X_test.shape)\n",
    "print(\"Training target shape:\", y_train.shape)\n",
    "print(\"Test target shape:\", y_test.shape)\n"
   ]
  },
  {
   "cell_type": "markdown",
   "metadata": {},
   "source": [
    " ## Exploratory Data Analysis\n",
    "\n",
    " Visualize two features."
   ]
  },
  {
   "cell_type": "code",
   "execution_count": null,
   "metadata": {},
   "outputs": [],
   "source": [
    "if X_train.shape[1] >= 2:\n",
    "    plot_scatter_for_classification(X_train, y_train, feature_indices=(0, 1), title=\"Feature 1 vs Feature 2\", filename=\"feature1_vs_feature2_batch_scratch.png\")\n"
   ]
  },
  {
   "cell_type": "markdown",
   "metadata": {},
   "source": [
    " ## Model Initialization\n",
    "\n",
    " Initialize with Batch GD."
   ]
  },
  {
   "cell_type": "code",
   "execution_count": null,
   "metadata": {},
   "outputs": [],
   "source": [
    "from src.scratch.models.logistic_regression import LogisticRegression\n",
    "\n",
    "model = LogisticRegression(method='batch_gd', learning_rate=1, n_iterations=10000000, verbose=True, lr_decay=0.00001, early_stopping=True, n_iter_no_change=10000)\n"
   ]
  },
  {
   "cell_type": "markdown",
   "metadata": {},
   "source": [
    " ## Training\n",
    "\n",
    " Train and time the model."
   ]
  },
  {
   "cell_type": "code",
   "execution_count": null,
   "metadata": {},
   "outputs": [],
   "source": [
    "import time\n",
    "\n",
    "start_time = time.time()\n",
    "model.fit(X_train, y_train)\n",
    "training_time = time.time() - start_time\n",
    "print(f\"Training Time: {training_time:.4f} seconds\")\n"
   ]
  },
  {
   "cell_type": "markdown",
   "metadata": {},
   "source": [
    " ## Evaluation\n",
    "\n",
    " Calculate metrics."
   ]
  },
  {
   "cell_type": "code",
   "execution_count": null,
   "metadata": {},
   "outputs": [],
   "source": [
    "from src.scratch.utils.metrics import accuracy, precision_score, recall_score, f1_score, roc_auc_score\n",
    "from src.scratch.utils.math_utils import sigmoid\n",
    "\n",
    "y_pred = model.predict(X_test)\n",
    "y_scores = sigmoid(model.predict(X_test))\n",
    "\n",
    "acc = accuracy(y_test, y_pred)\n",
    "prec = precision_score(y_test, y_pred)\n",
    "rec = recall_score(y_test, y_pred)\n",
    "f1 = f1_score(y_test, y_pred)\n",
    "roc_auc = roc_auc_score(y_test, y_scores)\n",
    "\n",
    "print(f\"Accuracy: {acc:.4f}\")\n",
    "print(f\"Precision: {prec:.4f}\")\n",
    "print(f\"Recall: {rec:.4f}\")\n",
    "print(f\"F1 Score: {f1:.4f}\")\n",
    "print(f\"ROC AUC: {roc_auc:.4f}\")\n"
   ]
  },
  {
   "cell_type": "markdown",
   "metadata": {},
   "source": [
    " ## Visualizations\n",
    "\n",
    " Visualize results."
   ]
  },
  {
   "cell_type": "code",
   "execution_count": null,
   "metadata": {},
   "outputs": [],
   "source": [
    "from src.scratch.utils.viz_utils import plot_learning_curve, plot_decision_boundary, plot_confusion_matrix, plot_roc_curve, plot_precision_recall_curve\n",
    "\n",
    "plot_learning_curve(model.get_loss_history(), title=\"Learning Curve (Batch GD Scratch)\", filename=\"learning_curve_batch_scratch_log.png\")\n",
    "if X_test.shape[1] == 2:\n",
    "    plot_decision_boundary(model, X_test, y_test, title=\"Decision Boundary (Batch GD Scratch)\", filename=\"decision_boundary_batch_scratch.png\")\n",
    "plot_confusion_matrix(y_test, y_pred, title=\"Confusion Matrix (Batch GD Scratch)\", filename=\"confusion_matrix_batch_scratch.png\")\n",
    "plot_roc_curve(y_test, y_scores, title=\"ROC Curve (Batch GD Scratch)\", filename=\"roc_curve_batch_scratch.png\")\n",
    "plot_precision_recall_curve(y_test, y_scores)"
   ]
  },
  {
   "cell_type": "markdown",
   "metadata": {},
   "source": [
    " ## Conclusion\n",
    "\n",
    " The Batch GD model achieved accuracy {acc:.4f}, F1 {f1:.4f}, and ROC AUC {roc_auc:.4f}."
   ]
  }
 ],
 "metadata": {
  "kernelspec": {
   "display_name": "Python 3",
   "language": "python",
   "name": "python3"
  },
  "language_info": {
   "codemirror_mode": {
    "name": "ipython",
    "version": 3
   },
   "file_extension": ".py",
   "mimetype": "text/x-python",
   "name": "python",
   "nbconvert_exporter": "python",
   "pygments_lexer": "ipython3",
   "version": "3.13.3"
  }
 },
 "nbformat": 4,
 "nbformat_minor": 2
}
