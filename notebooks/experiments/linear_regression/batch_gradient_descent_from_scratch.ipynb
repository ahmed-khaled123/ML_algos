{
 "cells": [
  {
   "cell_type": "markdown",
   "metadata": {},
   "source": [
    " # Linear Regression with Batch Gradient Descent (From Scratch)"
   ]
  },
  {
   "cell_type": "markdown",
   "metadata": {},
   "source": [
    " ## Introduction\n",
    "\n",
    " This notebook implements Linear Regression using Batch Gradient Descent from scratch on the student dataset."
   ]
  },
  {
   "cell_type": "markdown",
   "metadata": {},
   "source": [
    "## Data Loading\n",
    "\n",
    "Load the student data.\n"
   ]
  },
  {
   "cell_type": "code",
   "execution_count": null,
   "metadata": {},
   "outputs": [],
   "source": [
    "import os\n",
    "import sys\n",
    "\n",
    "import numpy as np\n",
    "\n",
    "# Set project root directory and add it to the system path\n",
    "project_root = os.path.abspath(os.path.join(os.getcwd(), \"..\", \"..\", \"..\"))\n",
    "sys.path.append(project_root)\n",
    "\n",
    "\n",
    "from src.scratch.utils.viz_utils import plot_scatter_for_regression\n",
    "\n",
    "\n",
    "X_train = np.load(\"../../../data/processed/student_X_train.npy\")\n",
    "X_test = np.load(\"../../../data/processed/student_X_test.npy\")\n",
    "y_train = np.load(\"../../../data/processed/student_y_train.npy\")\n",
    "y_test = np.load(\"../../../data/processed/student_y_test.npy\")\n",
    "\n",
    "print(\"Training features shape:\", X_train.shape)\n",
    "print(\"Test features shape:\", X_test.shape)\n",
    "print(\"Training target shape:\", y_train.shape)\n",
    "print(\"Test target shape:\", y_test.shape)"
   ]
  },
  {
   "cell_type": "markdown",
   "metadata": {},
   "source": [
    " ## Exploratory Data Analysis\n",
    "\n",
    " Plot the first feature vs. the target."
   ]
  },
  {
   "cell_type": "code",
   "execution_count": null,
   "metadata": {},
   "outputs": [],
   "source": [
    "plot_scatter_for_regression(X_train, y_train, feature_index=0, title=\"Feature 1 vs Target\", filename=\"feature1_vs_target_batch_scratch.png\")\n"
   ]
  },
  {
   "cell_type": "markdown",
   "metadata": {},
   "source": [
    " ## Model Initialization\n",
    "\n",
    " Initialize the model with Batch Gradient Descent."
   ]
  },
  {
   "cell_type": "code",
   "execution_count": null,
   "metadata": {},
   "outputs": [],
   "source": [
    "from src.scratch.models.linear_regression import LinearRegression\n",
    "\n",
    "model = LinearRegression(\n",
    "    method=\"batch_gd\",\n",
    "    learning_rate=0.01,\n",
    "    n_iterations=100000,\n",
    "    verbose=True,\n",
    "    lr_decay=0.001,\n",
    "    early_stopping=True,\n",
    ")"
   ]
  },
  {
   "cell_type": "markdown",
   "metadata": {},
   "source": [
    " ## Training\n",
    "\n",
    " Train the model and record training time."
   ]
  },
  {
   "cell_type": "code",
   "execution_count": null,
   "metadata": {},
   "outputs": [],
   "source": [
    "import time\n",
    "\n",
    "start_time = time.time()\n",
    "model.fit(X_train, y_train)\n",
    "training_time = time.time() - start_time\n",
    "print(f\"Training Time: {training_time:.4f} seconds\")\n"
   ]
  },
  {
   "cell_type": "markdown",
   "metadata": {},
   "source": [
    " ## Evaluation\n",
    "\n",
    " Evaluate with MSE and R²."
   ]
  },
  {
   "cell_type": "code",
   "execution_count": null,
   "metadata": {},
   "outputs": [],
   "source": [
    "from src.scratch.utils.metrics import mean_squared_error, r2_score\n",
    "\n",
    "y_pred = model.predict(X_test)\n",
    "mse = mean_squared_error(y_test, y_pred)\n",
    "r2 = r2_score(y_test, y_pred)\n",
    "print(f\"Mean Squared Error: {mse:.4f}\")\n",
    "print(f\"R² Score: {r2:.4f}\")\n"
   ]
  },
  {
   "cell_type": "markdown",
   "metadata": {},
   "source": [
    " ## Visualizations\n",
    "\n",
    " Visualize results."
   ]
  },
  {
   "cell_type": "code",
   "execution_count": null,
   "metadata": {},
   "outputs": [],
   "source": [
    "from src.scratch.utils.viz_utils import plot_learning_curve, plot_actual_vs_predicted, plot_residuals_vs_predicted, plot_qq_residuals, plot_residual_histogram\n",
    "\n",
    "plot_learning_curve(model.get_loss_history(), title=\"Learning Curve (Batch GD Scratch)\", filename=\"learning_curve_batch_scratch.png\")\n",
    "plot_actual_vs_predicted(y_test, y_pred, title=\"Actual vs Predicted (Batch GD Scratch)\", filename=\"actual_vs_predicted_batch_scratch.png\")\n",
    "plot_residuals_vs_predicted(y_test, y_pred, title=\"Residuals vs Predicted (Batch GD Scratch)\", filename=\"residuals_vs_predicted_batch_scratch.png\")\n",
    "plot_qq_residuals(y_test, y_pred, title=\"Q-Q Plot of Residuals (Batch GD Scratch)\", filename=\"qq_residuals_batch_scratch.png\")\n",
    "plot_residual_histogram(y_test, y_pred, title=\"Residual Histogram (Batch GD Scratch)\", filename=\"residual_histogram_batch_scratch.png\")\n"
   ]
  },
  {
   "cell_type": "markdown",
   "metadata": {},
   "source": [
    " ## Conclusion\n",
    "\n",
    " The Batch GD model achieved an MSE of {mse:.4f} and R² of {r2:.4f}. Visualizations indicate the model's fit and residual behavior."
   ]
  }
 ],
 "metadata": {
  "kernelspec": {
   "display_name": "Python 3",
   "language": "python",
   "name": "python3"
  },
  "language_info": {
   "codemirror_mode": {
    "name": "ipython",
    "version": 3
   },
   "file_extension": ".py",
   "mimetype": "text/x-python",
   "name": "python",
   "nbconvert_exporter": "python",
   "pygments_lexer": "ipython3",
   "version": "3.13.3"
  }
 },
 "nbformat": 4,
 "nbformat_minor": 2
}
