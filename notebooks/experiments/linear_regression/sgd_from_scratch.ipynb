{
 "cells": [
  {
   "cell_type": "markdown",
   "metadata": {},
   "source": [
    " # Linear Regression with Stochastic Gradient Descent (From Scratch)"
   ]
  },
  {
   "cell_type": "markdown",
   "metadata": {},
   "source": [
    " ## Introduction\n",
    "\n",
    " This notebook implements Linear Regression using Stochastic Gradient Descent (SGD) from scratch on the student dataset. We will train the model, evaluate its performance, and visualize the results."
   ]
  },
  {
   "cell_type": "markdown",
   "metadata": {},
   "source": [
    " ## Data Loading \n",
    "\n",
    " Load the preprocessed student data "
   ]
  },
  {
   "cell_type": "code",
   "execution_count": null,
   "metadata": {},
   "outputs": [],
   "source": [
    "import os\n",
    "import sys\n",
    "\n",
    "import numpy as np\n",
    "\n",
    "# Set project root directory and add it to the system path\n",
    "project_root = os.path.abspath(os.path.join(os.getcwd(), \"..\", \"..\", \"..\"))\n",
    "sys.path.append(project_root)\n",
    "\n",
    "\n",
    "from src.scratch.utils.viz_utils import plot_scatter_for_regression\n",
    "\n",
    "\n",
    "X_train = np.load(\"../../../data/processed/student_X_train.npy\")\n",
    "X_test = np.load(\"../../../data/processed/student_X_test.npy\")\n",
    "y_train = np.load(\"../../../data/processed/student_y_train.npy\")\n",
    "y_test = np.load(\"../../../data/processed/student_y_test.npy\")\n",
    "\n",
    "print(\"Training features shape:\", X_train.shape)\n",
    "print(\"Test features shape:\", X_test.shape)\n",
    "print(\"Training target shape:\", y_train.shape)\n",
    "print(\"Test target shape:\", y_test.shape)\n",
    "\n"
   ]
  },
  {
   "cell_type": "markdown",
   "metadata": {},
   "source": [
    " ## Exploratory Data Analysis\n",
    "\n",
    " Visualize a sample of the dataset: the first feature against the target."
   ]
  },
  {
   "cell_type": "code",
   "execution_count": null,
   "metadata": {},
   "outputs": [],
   "source": [
    "plot_scatter_for_regression(X_train, y_train, feature_index=0, title=\"Feature 1 vs Target\", filename=\"feature1_vs_target_sgd_scratch.png\")\n"
   ]
  },
  {
   "cell_type": "markdown",
   "metadata": {},
   "source": [
    " ## Model Initialization\n",
    "\n",
    " Initialize the Linear Regression model with SGD."
   ]
  },
  {
   "cell_type": "code",
   "execution_count": null,
   "metadata": {},
   "outputs": [],
   "source": [
    "from src.scratch.models.linear_regression import LinearRegression\n",
    "\n",
    "# Initialize model with SGD\n",
    "model = LinearRegression(method='stochastic_gd', learning_rate=0.01, n_iterations=1000, verbose=True, early_stopping=True, lr_decay=0.001)\n"
   ]
  },
  {
   "cell_type": "markdown",
   "metadata": {},
   "source": [
    " ## Training\n",
    "\n",
    " Train the model and measure the training time."
   ]
  },
  {
   "cell_type": "code",
   "execution_count": null,
   "metadata": {},
   "outputs": [],
   "source": [
    "import time\n",
    "\n",
    "start_time = time.time()\n",
    "model.fit(X_train, y_train)\n",
    "training_time = time.time() - start_time\n",
    "print(f\"Training Time: {training_time:.4f} seconds\")\n"
   ]
  },
  {
   "cell_type": "markdown",
   "metadata": {},
   "source": [
    " ## Evaluation\n",
    "\n",
    " Calculate Mean Squared Error (MSE) and R² score to assess performance."
   ]
  },
  {
   "cell_type": "code",
   "execution_count": null,
   "metadata": {},
   "outputs": [],
   "source": [
    "from src.scratch.utils.metrics import mean_squared_error, r2_score\n",
    "\n",
    "# Predict on test set\n",
    "y_pred = model.predict(X_test)\n",
    "\n",
    "# Calculate metrics\n",
    "mse = mean_squared_error(y_test, y_pred)\n",
    "r2 = r2_score(y_test, y_pred)\n",
    "print(f\"Mean Squared Error: {mse:.4f}\")\n",
    "print(f\"R² Score: {r2:.4f}\")\n"
   ]
  },
  {
   "cell_type": "markdown",
   "metadata": {},
   "source": [
    " ## Visualizations\n",
    "\n",
    " Visualize the training process and model performance."
   ]
  },
  {
   "cell_type": "code",
   "execution_count": null,
   "metadata": {},
   "outputs": [],
   "source": [
    "from src.scratch.utils.viz_utils import plot_learning_curve, plot_actual_vs_predicted, plot_residuals_vs_predicted, plot_qq_residuals, plot_residual_histogram\n",
    "\n",
    "# Plot learning curve\n",
    "plot_learning_curve(model.get_loss_history(), title=\"Learning Curve (SGD Scratch)\", filename=\"learning_curve_sgd_scratch.png\")\n",
    "\n",
    "# Plot evaluation visualizations\n",
    "plot_actual_vs_predicted(y_test, y_pred, title=\"Actual vs Predicted (SGD Scratch)\", filename=\"actual_vs_predicted_sgd_scratch.png\")\n",
    "plot_residuals_vs_predicted(y_test, y_pred, title=\"Residuals vs Predicted (SGD Scratch)\", filename=\"residuals_vs_predicted_sgd_scratch.png\")\n",
    "plot_qq_residuals(y_test, y_pred, title=\"Q-Q Plot of Residuals (SGD Scratch)\", filename=\"qq_residuals_sgd_scratch.png\")\n",
    "plot_residual_histogram(y_test, y_pred, title=\"Residual Histogram (SGD Scratch)\", filename=\"residual_histogram_sgd_scratch.png\")\n"
   ]
  },
  {
   "cell_type": "markdown",
   "metadata": {},
   "source": [
    " ## Conclusion\n",
    "\n",
    " The model trained with SGD from scratch achieved an MSE of {mse:.4f} and an R² of {r2:.4f}. The visualizations show the convergence of the loss and the distribution of predictions and residuals."
   ]
  }
 ],
 "metadata": {
  "kernelspec": {
   "display_name": "Python 3",
   "language": "python",
   "name": "python3"
  },
  "language_info": {
   "codemirror_mode": {
    "name": "ipython",
    "version": 3
   },
   "file_extension": ".py",
   "mimetype": "text/x-python",
   "name": "python",
   "nbconvert_exporter": "python",
   "pygments_lexer": "ipython3",
   "version": "3.13.3"
  }
 },
 "nbformat": 4,
 "nbformat_minor": 2
}
