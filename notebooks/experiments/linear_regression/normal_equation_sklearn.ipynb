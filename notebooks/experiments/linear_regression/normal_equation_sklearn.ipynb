{
 "cells": [
  {
   "cell_type": "markdown",
   "metadata": {},
   "source": [
    " # Linear Regression with Normal Equation (Scikit-learn)"
   ]
  },
  {
   "cell_type": "markdown",
   "metadata": {},
   "source": [
    " ## Introduction\n",
    "\n",
    " This notebook uses scikit-learn's Normal Equation implementation for Linear Regression."
   ]
  },
  {
   "cell_type": "markdown",
   "metadata": {},
   "source": [
    " ## Data Loading \n",
    "\n",
    " Load  the data."
   ]
  },
  {
   "cell_type": "code",
   "execution_count": null,
   "metadata": {},
   "outputs": [],
   "source": [
    "import numpy as np\n",
    "import os\n",
    "import sys\n",
    "\n",
    "# Set project root directory and add it to the system path\n",
    "project_root = os.path.abspath(os.path.join(os.getcwd(), \"..\", \"..\", \"..\"))\n",
    "sys.path.append(project_root)\n",
    "\n",
    "\n",
    "from src.scratch.utils.viz_utils import plot_scatter_for_regression\n",
    "\n",
    "\n",
    "X_train = np.load(\"../../../data/processed/student_X_train.npy\")\n",
    "X_test = np.load(\"../../../data/processed/student_X_test.npy\")\n",
    "y_train = np.load(\"../../../data/processed/student_y_train.npy\")\n",
    "y_test = np.load(\"../../../data/processed/student_y_test.npy\")\n",
    "\n",
    "print(\"Training features shape:\", X_train.shape)\n",
    "print(\"Test features shape:\", X_test.shape)\n",
    "print(\"Training target shape:\", y_train.shape)\n",
    "print(\"Test target shape:\", y_test.shape)"
   ]
  },
  {
   "cell_type": "markdown",
   "metadata": {},
   "source": [
    " ## Exploratory Data Analysis\n",
    "\n",
    " Visualize feature 1 vs. target."
   ]
  },
  {
   "cell_type": "code",
   "execution_count": null,
   "metadata": {},
   "outputs": [],
   "source": [
    "plot_scatter_for_regression(X_train, y_train, feature_index=0, title=\"Feature 1 vs Target\", filename=\"feature1_vs_target_normal_sk.png\")\n"
   ]
  },
  {
   "cell_type": "markdown",
   "metadata": {},
   "source": [
    " ## Model Initialization\n",
    "\n",
    " Initialize with Normal Equation."
   ]
  },
  {
   "cell_type": "code",
   "execution_count": null,
   "metadata": {},
   "outputs": [],
   "source": [
    "from src.sklearn_impl.linear_regression_sk import LinearRegressionSK\n",
    "\n",
    "model = LinearRegressionSK(method='normal')\n"
   ]
  },
  {
   "cell_type": "markdown",
   "metadata": {},
   "source": [
    " ## Training\n",
    "\n",
    " Train and time the model."
   ]
  },
  {
   "cell_type": "code",
   "execution_count": null,
   "metadata": {},
   "outputs": [],
   "source": [
    "import time\n",
    "\n",
    "start_time = time.time()\n",
    "model.fit(X_train, y_train)\n",
    "training_time = time.time() - start_time\n",
    "print(f\"Training Time: {training_time:.4f} seconds\")\n"
   ]
  },
  {
   "cell_type": "markdown",
   "metadata": {},
   "source": [
    " ## Evaluation\n",
    "\n",
    " Calculate MSE and R²."
   ]
  },
  {
   "cell_type": "code",
   "execution_count": null,
   "metadata": {},
   "outputs": [],
   "source": [
    "from src.scratch.utils.metrics import mean_squared_error, r2_score\n",
    "\n",
    "y_pred = model.predict(X_test)\n",
    "mse = mean_squared_error(y_test, y_pred)\n",
    "r2 = r2_score(y_test, y_pred)\n",
    "print(f\"Mean Squared Error: {mse:.4f}\")\n",
    "print(f\"R² Score: {r2:.4f}\")\n"
   ]
  },
  {
   "cell_type": "markdown",
   "metadata": {},
   "source": [
    " ## Visualizations\n",
    "\n",
    " Visualize results (no learning curve)."
   ]
  },
  {
   "cell_type": "code",
   "execution_count": null,
   "metadata": {},
   "outputs": [],
   "source": [
    "from src.scratch.utils.viz_utils import plot_actual_vs_predicted, plot_residuals_vs_predicted, plot_qq_residuals, plot_residual_histogram\n",
    "\n",
    "plot_actual_vs_predicted(y_test, y_pred, title=\"Actual vs Predicted (Normal Eq SK)\", filename=\"actual_vs_predicted_normal_sk.png\")\n",
    "plot_residuals_vs_predicted(y_test, y_pred, title=\"Residuals vs Predicted (Normal Eq SK)\", filename=\"residuals_vs_predicted_normal_sk.png\")\n",
    "plot_qq_residuals(y_test, y_pred, title=\"Q-Q Plot of Residuals (Normal Eq SK)\", filename=\"qq_residuals_normal_sk.png\")\n",
    "plot_residual_histogram(y_test, y_pred, title=\"Residual Histogram (Normal Eq SK)\", filename=\"residual_histogram_normal_sk.png\")\n"
   ]
  },
  {
   "cell_type": "markdown",
   "metadata": {},
   "source": [
    " ## Conclusion\n",
    "\n",
    " The scikit-learn Normal Equation model achieved an MSE of {mse:.4f} and R² of {r2:.4f}."
   ]
  }
 ],
 "metadata": {
  "kernelspec": {
   "display_name": "Python 3",
   "language": "python",
   "name": "python3"
  },
  "language_info": {
   "codemirror_mode": {
    "name": "ipython",
    "version": 3
   },
   "file_extension": ".py",
   "mimetype": "text/x-python",
   "name": "python",
   "nbconvert_exporter": "python",
   "pygments_lexer": "ipython3",
   "version": "3.13.3"
  }
 },
 "nbformat": 4,
 "nbformat_minor": 2
}
