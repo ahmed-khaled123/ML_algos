{
 "cells": [
  {
   "cell_type": "markdown",
   "id": "0e80675a",
   "metadata": {},
   "source": [
    "# KMeans Clustering with Scikit-learn Wrapper (KMeansSK)\n",
    "\n",
    "## 1. Import Required Libraries\n",
    "In this section, we import the necessary libraries for loading data, applying the custom `KMeansSK` class, and visualizing the results. We also import the `KMeansSK` class from the appropriate module."
   ]
  },
  {
   "cell_type": "code",
   "execution_count": null,
   "id": "e8469270",
   "metadata": {},
   "outputs": [],
   "source": [
    "import numpy as np\n",
    "import pandas as pd\n",
    "import matplotlib.pyplot as plt\n",
    "import seaborn as sns\n",
    "from sklearn.datasets import make_blobs  # For generating synthetic data\n",
    "import sys\n",
    "import os\n",
    "\n",
    "# Add path to access K_Means.py or the module containing KMeansSK\n",
    "sys.path.append(os.path.abspath('../src/models'))  # Adjust path as needed\n",
    "from K_Means import KMeansSK  # Assuming KMeansSK is in K_Means.py\n",
    "\n",
    "# Plotting settings\n",
    "%matplotlib inline\n",
    "plt.style.use('seaborn')"
   ]
  },
  {
   "cell_type": "markdown",
   "id": "4cd71e8a",
   "metadata": {},
   "source": [
    "## 2. Generate or Load Data\n",
    "We will generate synthetic data using `make_blobs` for demonstration purposes. If you have your own data (e.g., `placeholder_1.csv` in the repo), you can replace this section with loading your CSV file."
   ]
  },
  {
   "cell_type": "code",
   "execution_count": null,
   "id": "6a6c8524",
   "metadata": {},
   "outputs": [],
   "source": [
    "df = pd.read_csv('../data/placeholder_1.csv')\n",
    "X = df[['Feature_1', 'Feature_2']].values  # Adjust column names as needed"
   ]
  },
  {
   "cell_type": "markdown",
   "id": "e0c68327",
   "metadata": {},
   "source": [
    "## 3. Apply KMeansSK (Scikit-learn Wrapper)\n",
    "We will use the `KMeansSK` class to train the model on the data with custom inertia tracking and optional early stopping."
   ]
  },
  {
   "cell_type": "code",
   "execution_count": null,
   "id": "62fe4c93",
   "metadata": {},
   "outputs": [],
   "source": [
    "# Create KMeansSK model with early stopping enabled\n",
    "kmeans_sk = KMeansSK(\n",
    "    n_clusters=4,\n",
    "    init='k-means++',\n",
    "    n_init=10,\n",
    "    max_iter=300,\n",
    "    early_stopping=True,\n",
    "    n_iter_no_change=10,\n",
    "    tol=1e-4,\n",
    "    verbose=True,\n",
    "    random_state=42\n",
    ")\n",
    "\n",
    "# Train the model\n",
    "kmeans_sk.fit(X)\n",
    "\n",
    "# Assign cluster labels to the data\n",
    "df['Cluster'] = kmeans_sk.predict(X)\n",
    "\n",
    "# Display the first 5 rows with cluster labels\n",
    "df.head()"
   ]
  },
  {
   "cell_type": "markdown",
   "id": "d46ef023",
   "metadata": {},
   "source": [
    "## 4. Visualize the Results\n",
    "We will plot the data points colored by their assigned clusters and mark the centroids (accessible via the underlying scikit-learn model)."
   ]
  },
  {
   "cell_type": "code",
   "execution_count": null,
   "id": "3ead5b13",
   "metadata": {},
   "outputs": [],
   "source": [
    "# Plot the clusters\n",
    "plt.figure(figsize=(8, 6))\n",
    "sns.scatterplot(x='Feature_1', y='Feature_2', hue='Cluster', data=df, palette='Set1', s=100)\n",
    "plt.scatter(kmeans_sk.model.cluster_centers_[:, 0], kmeans_sk.model.cluster_centers_[:, 1], \n",
    "            s=300, c='black', marker='X', label='Centroids')\n",
    "plt.title('KMeansSK Clustering Results')\n",
    "plt.xlabel('Feature 1')\n",
    "plt.ylabel('Feature 2')\n",
    "plt.legend()\n",
    "plt.show()"
   ]
  },
  {
   "cell_type": "markdown",
   "id": "32155df3",
   "metadata": {},
   "source": [
    "## 5. Plot Inertia History\n",
    "We will plot the inertia history tracked by `KMeansSK` to observe the convergence of the algorithm, including the effect of early stopping if triggered."
   ]
  },
  {
   "cell_type": "code",
   "execution_count": null,
   "id": "2a7357f0",
   "metadata": {},
   "outputs": [],
   "source": [
    "# Get inertia history\n",
    "inertia_history = kmeans_sk.get_inertia_history()\n",
    "\n",
    "# Plot inertia history\n",
    "plt.figure(figsize=(8, 5))\n",
    "plt.plot(inertia_history, marker='o')\n",
    "plt.title('Inertia History Over Iterations (KMeansSK)')\n",
    "plt.xlabel('Iteration')\n",
    "plt.ylabel('Inertia')\n",
    "plt.grid(True)\n",
    "plt.show()"
   ]
  },
  {
   "cell_type": "markdown",
   "id": "0a83252a",
   "metadata": {},
   "source": [
    "## 6. Conclusion\n",
    "In this notebook, we implemented the `KMeansSK` class, a wrapper around scikit-learn's KMeans, with custom inertia tracking and optional early stopping. We generated synthetic data, trained the model, visualized the clustering results, and plotted the inertia history to monitor convergence."
   ]
  }
 ],
 "metadata": {
  "kernelspec": {
   "display_name": "Python 3",
   "language": "python",
   "name": "python3"
  },
  "language_info": {
   "name": "python",
   "version": "3.11.9"
  }
 },
 "nbformat": 4,
 "nbformat_minor": 5
}
