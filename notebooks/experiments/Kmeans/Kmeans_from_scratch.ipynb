{
 "cells": [
  {
   "cell_type": "markdown",
   "id": "47885146",
   "metadata": {},
   "source": [
    "# KMeans Clustering (From Scratch)\n",
    "\n",
    "## 1. Import Required Libraries\n",
    "In this section, we import the necessary libraries for loading data, applying KMeans, and visualizing the results. We also import the `KMeans` class from the `K_Means.py` file."
   ]
  },
  {
   "cell_type": "code",
   "execution_count": null,
   "id": "d1646d26",
   "metadata": {},
   "outputs": [],
   "source": [
    "import numpy as np\n",
    "import pandas as pd\n",
    "import matplotlib.pyplot as plt\n",
    "import seaborn as sns\n",
    "from sklearn.datasets import make_blobs  # For generating synthetic data\n",
    "import sys\n",
    "import os\n",
    "\n",
    "# Add path to access K_Means.py\n",
    "sys.path.append(os.path.abspath('../src/models'))\n",
    "from K_Means import KMeans\n",
    "\n",
    "# Plotting settings\n",
    "%matplotlib inline\n",
    "plt.style.use('seaborn')"
   ]
  },
  {
   "cell_type": "markdown",
   "id": "11d5a167",
   "metadata": {},
   "source": [
    "## 2. Generate or Load Data\n",
    "We will generate synthetic data using `make_blobs` for demonstration purposes. If you have your own data (e.g., `placeholder_1.csv` in the repo), you can replace this section with loading your CSV file."
   ]
  },
  {
   "cell_type": "code",
   "execution_count": null,
   "id": "1dfd62a7",
   "metadata": {},
   "outputs": [],
   "source": [
    "\n",
    "df = pd.read_csv('../data/placeholder_1.csv')\n",
    "X = df[['Feature_1', 'Feature_2']].values  # Adjust column names as needed"
   ]
  },
  {
   "cell_type": "markdown",
   "id": "f32c9031",
   "metadata": {},
   "source": [
    "## 3. Apply KMeans (From Scratch)\n",
    "We will use the `KMeans` class from  code to train the model on the data."
   ]
  },
  {
   "cell_type": "code",
   "execution_count": null,
   "id": "d04cabbc",
   "metadata": {},
   "outputs": [],
   "source": [
    "# Create KMeans model\n",
    "kmeans = KMeans(n_clusters=4, n_init=10, max_iter=300, tol=1e-4, verbose=True, random_state=42)\n",
    "\n",
    "# Train the model\n",
    "kmeans.fit(X)\n",
    "\n",
    "# Assign cluster labels to the data\n",
    "df['Cluster'] = kmeans.labels_\n",
    "\n",
    "# Display the first 5 rows with cluster labels\n",
    "df.head()"
   ]
  },
  {
   "cell_type": "markdown",
   "id": "8d43159f",
   "metadata": {},
   "source": [
    "## 4. Visualize the Results\n",
    "We will plot the data points colored by their assigned clusters and mark the centroids."
   ]
  },
  {
   "cell_type": "code",
   "execution_count": null,
   "id": "b7b7965e",
   "metadata": {},
   "outputs": [],
   "source": [
    "# Plot the clusters\n",
    "plt.figure(figsize=(8, 6))\n",
    "sns.scatterplot(x='Feature_1', y='Feature_2', hue='Cluster', data=df, palette='Set1', s=100)\n",
    "plt.scatter(kmeans.centroids_[:, 0], kmeans.centroids_[:, 1], s=300, c='black', marker='X', label='Centroids')\n",
    "plt.title('KMeans Clustering Results (From Scratch)')\n",
    "plt.xlabel('Feature 1')\n",
    "plt.ylabel('Feature 2')\n",
    "plt.legend()\n",
    "plt.show()"
   ]
  },
  {
   "cell_type": "markdown",
   "id": "759bceb9",
   "metadata": {},
   "source": [
    "## 5. Plot Loss History\n",
    "We will plot the loss history (inertia) over iterations for the best run to observe the convergence of the algorithm."
   ]
  },
  {
   "cell_type": "code",
   "execution_count": null,
   "id": "4d5d7f6f",
   "metadata": {},
   "outputs": [],
   "source": [
    "# Get loss history\n",
    "loss_history = kmeans.get_loss_history()\n",
    "\n",
    "# Plot loss history\n",
    "plt.figure(figsize=(8, 5))\n",
    "plt.plot(loss_history, marker='o')\n",
    "plt.title('Loss History (Inertia) Over Iterations')\n",
    "plt.xlabel('Iteration')\n",
    "plt.ylabel('Inertia')\n",
    "plt.grid(True)\n",
    "plt.show()"
   ]
  },
  {
   "cell_type": "markdown",
   "id": "f3d3b98b",
   "metadata": {},
   "source": [
    "## 6. Conclusion\n",
    "In this notebook, we implemented the KMeans clustering algorithm from scratch using the code in `K_Means.py`. We generated synthetic data, trained the model, visualized the clustering results, and plotted the loss history to monitor the algorithm's convergence."
   ]
  }
 ],
 "metadata": {
  "kernelspec": {
   "display_name": "Python 3",
   "language": "python",
   "name": "python3"
  },
  "language_info": {
   "codemirror_mode": {
    "name": "ipython",
    "version": 3
   },
   "file_extension": ".py",
   "mimetype": "text/x-python",
   "name": "python",
   "nbconvert_exporter": "python",
   "pygments_lexer": "ipython3",
   "version": "3.11.9"
  }
 },
 "nbformat": 4,
 "nbformat_minor": 5
}
